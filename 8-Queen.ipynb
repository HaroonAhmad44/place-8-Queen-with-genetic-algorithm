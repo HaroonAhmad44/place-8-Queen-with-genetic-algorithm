{
 "cells": [
  {
   "cell_type": "code",
   "execution_count": 1,
   "metadata": {},
   "outputs": [],
   "source": [
    "import numpy as np\n",
    "def fittingFun(board):\n",
    "    pair=[0,1,2,3]\n",
    "    pair[0]=[1,1,1,1,1,1,1,1]\n",
    "    pair[1]=[1,1,1,1,1,1,1,1]\n",
    "    pair[2]=[1,1,1,1,1,1,1,1]\n",
    "    pair[3]=[1,1,1,1,1,1,1,1]\n",
    "    for p in range(4):\n",
    "        for i in range(8):\n",
    "            diagonal=i\n",
    "            var1=board[p][i]\n",
    "            diagonalonward=i\n",
    "            var2=board[p][i]\n",
    "            antidiagonal=i\n",
    "            var3=board[p][i]\n",
    "            antidiagonalonward=i\n",
    "            var4=board[p][i]\n",
    "            for j in range(0,8):\n",
    "                if j<i:\n",
    "                    diagonal=diagonal-1      \n",
    "                    var1-=1\n",
    "                    antidiagonalonward=antidiagonalonward-1\n",
    "                    var4+=1\n",
    "                    if (((diagonal>=0 and var1!=board[p][diagonal])and(board[p][i]!=board[p][diagonal]))and((antidiagonalonward>=0)and (var4!=board[p][antidiagonalonward])and(board[p][i]!=board[p][antidiagonalonward]))):\n",
    "                        continue\n",
    "                    else:\n",
    "                        pair[p][i]=0\n",
    "                if j>i:\n",
    "                    diagonalonward=diagonalonward+1\n",
    "                    var2+=1\n",
    "                    antidiagonal=antidiagonal+1      \n",
    "                    var3-=1            \n",
    "                    if (((diagonalonward<8 and var2!=board[p][diagonalonward])and(board[p][i]!=board[p][diagonalonward]))and((antidiagonal<8)and( var3!=board[p][antidiagonal])and(board[p][i]!=board[p][antidiagonal]))):\n",
    "                        continue \n",
    "                    else:\n",
    "                        pair[p][i]=0\n",
    "    \n",
    "    return sum(pair[0]),sum(pair[1]),sum(pair[2]),sum(pair[3])\n",
    "                    \n",
    "    "
   ]
  },
  {
   "cell_type": "code",
   "execution_count": 2,
   "metadata": {},
   "outputs": [],
   "source": [
    "def GetNthSmall(arr, k):\n",
    "    \n",
    "    temp=list(arr).copy()\n",
    "    for i in range(k):\n",
    "        small=temp.pop(temp.index(min(temp)))\n",
    "    del temp\n",
    "    return arr.index(small)\n",
    "\n"
   ]
  },
  {
   "cell_type": "code",
   "execution_count": 3,
   "metadata": {},
   "outputs": [],
   "source": [
    "import random as rn\n",
    "def CrossAndMutation(board,result):\n",
    "    \n",
    "    A=board[GetNthSmall(result,4)]\n",
    "    B=board[GetNthSmall(result,3)]\n",
    "    C=board[GetNthSmall(result,2)]=np.array([A[0]-1,A[1]-1,A[2]-1,A[3]-1,B[4]-1,B[5]-1,B[6]-1,B[7]-1])\n",
    "    D=board[GetNthSmall(result,1)]=np.array([B[0]-1,B[1]-1,B[2]-1,B[3]-1,A[4]-1,A[5]-1,A[6]-1,A[7]-1])\n",
    "\n",
    "    E=[bin(C[0])[2:].zfill(3),bin(C[1])[2:].zfill(3),bin(C[2])[2:].zfill(3),bin(C[3])[2:].zfill(3),bin(C[4])[2:].zfill(3),bin(C[5])[2:].zfill(3),bin(C[6])[2:].zfill(3),bin(C[7])[2:].zfill(3)]\n",
    "    F=[bin(D[0])[2:].zfill(3),bin(D[1])[2:].zfill(3),bin(D[2])[2:].zfill(3),bin(D[3])[2:].zfill(3),bin(D[4])[2:].zfill(3),bin(D[5])[2:].zfill(3),bin(D[6])[2:].zfill(3),bin(D[7])[2:].zfill(3)]\n",
    "\n",
    "    index=rn.randint(0,7)\n",
    "    bit=rn.randint(0,2)\n",
    "    index1=rn.randint(0,7)\n",
    "    bit1=rn.randint(0,2)\n",
    "\n",
    "    E[index]=bin(((int(E[index],2)) ^ (1 << bit)))[2:].zfill(4)\n",
    "    F[index1]=bin(((int(F[index1],2)) ^ (1 << bit1)))[2:].zfill(4)\n",
    "    C=board[GetNthSmall(result,2)]=np.array([int(E[0],2)+1,int(E[1],2)+1,int(E[2],2)+1,int(E[3],2)+1,int(E[4],2)+1,int(E[5],2)+1,int(E[6],2)+1,int(E[7],2)+1  ])\n",
    "    D=board[GetNthSmall(result,1)]=np.array([int(F[0],2)+1,int(F[1],2)+1,int(F[2],2)+1,int(F[3],2)+1,int(F[4],2)+1,int(F[5],2)+1,int(F[6],2)+1,int(F[7],2)+1  ])\n",
    "    del E,F\n",
    "\n",
    "    \n",
    "    "
   ]
  },
  {
   "cell_type": "code",
   "execution_count": 4,
   "metadata": {},
   "outputs": [
    {
     "name": "stdout",
     "output_type": "stream",
     "text": [
      "CONGOOOO!!!!!!\n",
      "The board in which 8 queen without attacking  [4 6 8 2 7 1 3 5]\n"
     ]
    }
   ],
   "source": [
    "import time \n",
    "####main\n",
    "start=time.time()\n",
    "board=[0,1,2,3]\n",
    "##### you position should be in range (1-8) you can usr random number or initialize it as you want\n",
    "\n",
    "board[0]=np.array([5,7,2,2,3,4,6,2])\n",
    "board[1]=np.array([8,5,7,2,7,1,3,5])\n",
    "board[2]=np.array([3,1,4,3,7,7,5,8])\n",
    "board[3]=np.array([5,8,4,4,5,2,5,1])\n",
    "    \n",
    "result=fittingFun(board)\n",
    "\n",
    "while max(result)!= 8:\n",
    "    CrossAndMutation(board,result)\n",
    "    result=fittingFun(board)\n",
    "    #program will terminate after 10 sec and return the best solution in given time\n",
    "    if (time.time()>start+10):\n",
    "        break\n",
    "\n",
    "\n",
    "if max(result)==8:\n",
    "    print(\"CONGOOOO!!!!!!\")\n",
    "    print(\"The board in which 8 queen without attacking \",board[GetNthSmall(result,4)])\n",
    "else:\n",
    "    print(\"oopss!!! Time out 10\")\n",
    "    print(\"The closest board position will be \",board[GetNthSmall(result,4)])\n",
    "    print(\"In which max numbers of queen are not attacking is\",max(result))\n",
    "\n",
    "\n"
   ]
  },
  {
   "cell_type": "code",
   "execution_count": null,
   "metadata": {},
   "outputs": [],
   "source": []
  }
 ],
 "metadata": {
  "kernelspec": {
   "display_name": "Python 3",
   "language": "python",
   "name": "python3"
  },
  "language_info": {
   "codemirror_mode": {
    "name": "ipython",
    "version": 3
   },
   "file_extension": ".py",
   "mimetype": "text/x-python",
   "name": "python",
   "nbconvert_exporter": "python",
   "pygments_lexer": "ipython3",
   "version": "3.8.3"
  }
 },
 "nbformat": 4,
 "nbformat_minor": 2
}
